{
 "cells": [
  {
   "cell_type": "markdown",
   "id": "cbf90e18-46c2-4071-92b8-82c3cde03f0e",
   "metadata": {},
   "source": [
    "# Assignment: Functions\n",
    "## Ques 1. What is the difference between a function and a method in python?\n",
    "In Python, both functions and methods are blocks of code that perform a specific task, but they differ in how they are called and used:1. \n",
    "### Function:\n",
    "* A function is a block of reusable code that is defined using the def keyword and can be called by its name.\n",
    "* It can be either a built-in function (e.g., print()) or a user-defined function.\n",
    "* Functions are independent of any objects (i.e., they are not bound to any class or instance)."
   ]
  },
  {
   "cell_type": "code",
   "execution_count": 4,
   "id": "66b1b864-7b91-41ab-8331-68358c4d66ce",
   "metadata": {},
   "outputs": [
    {
     "name": "stdout",
     "output_type": "stream",
     "text": [
      "Hello, Alice!\n"
     ]
    }
   ],
   "source": [
    "# function\n",
    "def greet(name):\n",
    "    return f\"Hello, {name}!\"\n",
    "\n",
    "# Calling the function\n",
    "print(greet(\"Alice\"))  # Output: Hello, Alice!"
   ]
  },
  {
   "cell_type": "markdown",
   "id": "62b46e7f-4e80-4fd2-9b8f-5a4698f04669",
   "metadata": {},
   "source": [
    "### Method:\n",
    "* A method is similar to a function but is associated with an object. Methods are defined inside classes and are called on instances (objects) of that class.\n",
    "* A method implicitly takes the instance (self) as its first argument, which refers to the object calling the method.\n",
    "* There are two types of methods:\n",
    "    1. Instance methods: Require an object of the class to be created first.\n",
    "    2. Class/Static methods: Associated with the class itself rather than an instance."
   ]
  },
  {
   "cell_type": "code",
   "execution_count": 7,
   "id": "186f7247-29fe-44c2-98d0-41d44b088e3b",
   "metadata": {},
   "outputs": [
    {
     "name": "stdout",
     "output_type": "stream",
     "text": [
      "Hello, Alice!\n"
     ]
    }
   ],
   "source": [
    "# Defining a class with a method\n",
    "class Greeter:\n",
    "    def greet(self, name):\n",
    "        return f\"Hello, {name}!\"\n",
    "\n",
    "# Creating an instance (object) of the class\n",
    "greeter = Greeter()\n",
    "\n",
    "# Calling the method on the object\n",
    "print(greeter.greet(\"Alice\"))  # Output: Hello, Alice!"
   ]
  },
  {
   "cell_type": "markdown",
   "id": "2a305162-8ded-486c-b737-373ced3ef169",
   "metadata": {},
   "source": [
    "### Key Differences:\n",
    "* Functions are not associated with objects or classes, while methods are.\n",
    "* Methods take the instance (self) as their first parameter, but functions do not.\n",
    "* Functions can be called directly, whereas methods must be called on an instance of a class (for instance methods)."
   ]
  },
  {
   "cell_type": "markdown",
   "id": "a7d9a375-fcdc-42f8-8f90-f9c018fbd72c",
   "metadata": {},
   "source": [
    "## Ques 2. Explain the concept of function arguements and parameters in python.\n",
    "In Python, parameters and arguments are terms often used in the context of functions. While they are closely related, they refer to different things.\n",
    "\n",
    "### 1. Parameters:\n",
    "* Parameters are the variables defined in the function's declaration.\n",
    "* They act as placeholders for the values that will be passed to the function when it is called.\n",
    "* Parameters are defined within the parentheses after the function name.\n"
   ]
  },
  {
   "cell_type": "code",
   "execution_count": 8,
   "id": "e1e73856-f619-4f15-8806-39cc018ee901",
   "metadata": {},
   "outputs": [],
   "source": [
    "def add(a, b):  # a and b are parameters\n",
    "    return a + b"
   ]
  },
  {
   "cell_type": "markdown",
   "id": "3de96d81-d7e2-4589-85dc-c8d21ae9467e",
   "metadata": {},
   "source": [
    "### 2. Arguments:\n",
    "* Arguments are the actual values passed to the function when it is called.\n",
    "* These values are assigned to the function's parameters.\n",
    "* You provide arguments when you invoke (call) the function."
   ]
  },
  {
   "cell_type": "code",
   "execution_count": 9,
   "id": "92cb1055-2eda-4a83-9a5f-d0ff69ca7a99",
   "metadata": {},
   "outputs": [
    {
     "name": "stdout",
     "output_type": "stream",
     "text": [
      "8\n"
     ]
    }
   ],
   "source": [
    "result = add(3, 5)  # 3 and 5 are arguments\n",
    "print(result)       # Output: 8"
   ]
  },
  {
   "cell_type": "markdown",
   "id": "e829fecb-fa15-4637-a0e4-b90497532671",
   "metadata": {},
   "source": [
    "Types of Arguments in Python:\n",
    "Python allows different types of arguments to be passed to functions.\n",
    "\n",
    "#### 1. Positional Arguments:\n",
    "* These are the most common type of arguments.\n",
    "* The arguments passed to the function are assigned to the parameters based on their position."
   ]
  },
  {
   "cell_type": "code",
   "execution_count": 11,
   "id": "09b44a6c-5bfd-4110-a5d1-8dd14f4ad4c0",
   "metadata": {},
   "outputs": [
    {
     "name": "stdout",
     "output_type": "stream",
     "text": [
      "Hello, Alice!\n"
     ]
    }
   ],
   "source": [
    "# positional arguement\n",
    "def greet(name, greeting):\n",
    "    return f\"{greeting}, {name}!\"\n",
    "\n",
    "print(greet(\"Alice\", \"Hello\"))  # Output: Hello, Alice!"
   ]
  },
  {
   "cell_type": "markdown",
   "id": "d5f07d4a-ec89-4b47-b69a-008c287630df",
   "metadata": {},
   "source": [
    "#### 2. Keyword Arguments:\n",
    "Arguments can also be passed by explicitly specifying the parameter name and its value.\n",
    "This is called passing arguments by keyword"
   ]
  },
  {
   "cell_type": "code",
   "execution_count": 12,
   "id": "dfe81f95-c795-41f9-ad33-391b2b327564",
   "metadata": {},
   "outputs": [
    {
     "name": "stdout",
     "output_type": "stream",
     "text": [
      "Hi, Alice!\n"
     ]
    }
   ],
   "source": [
    "# keyword arguement\n",
    "print(greet(name=\"Alice\", greeting=\"Hi\"))  # Output: Hi, Alice!\n"
   ]
  },
  {
   "cell_type": "markdown",
   "id": "c73ba4d4-9b56-4e46-b019-616e40ad94fa",
   "metadata": {},
   "source": [
    "#### 3. Default Arguments:\n",
    "Parameters can have default values, which are used if no argument is provided for them when the function is called."
   ]
  },
  {
   "cell_type": "code",
   "execution_count": 13,
   "id": "e9743e2f-e929-4412-83a9-c906dc2170ec",
   "metadata": {},
   "outputs": [
    {
     "name": "stdout",
     "output_type": "stream",
     "text": [
      "Hello, Alice!\n",
      "Hi, Alice!\n"
     ]
    }
   ],
   "source": [
    "# default arguement\n",
    "def greet(name, greeting=\"Hello\"):\n",
    "    return f\"{greeting}, {name}!\"\n",
    "\n",
    "print(greet(\"Alice\"))            # Output: Hello, Alice! (greeting is default)\n",
    "print(greet(\"Alice\", \"Hi\"))       # Output: Hi, Alice! (greeting is provided)\n"
   ]
  },
  {
   "cell_type": "markdown",
   "id": "f987a034-3f8a-44e1-9cf6-72be143c93ca",
   "metadata": {},
   "source": [
    "#### 4. Arbitrary Positional Arguments (*args):\n",
    "Sometimes, you don’t know how many arguments will be passed to a function. You can use *args to accept an arbitrary number of positional arguments."
   ]
  },
  {
   "cell_type": "code",
   "execution_count": 14,
   "id": "7ef64f7f-f2a5-4e28-8f95-13f410a7a06a",
   "metadata": {},
   "outputs": [
    {
     "name": "stdout",
     "output_type": "stream",
     "text": [
      "6\n",
      "9\n"
     ]
    }
   ],
   "source": [
    "# arbitrary postiional arguements\n",
    "def add(*numbers):\n",
    "    return sum(numbers)\n",
    "\n",
    "print(add(1, 2, 3))  # Output: 6\n",
    "print(add(4, 5))     # Output: 9"
   ]
  },
  {
   "cell_type": "markdown",
   "id": "ae4db321-614c-4bc1-9604-4499438567d9",
   "metadata": {},
   "source": [
    "#### 5. Arbitrary Keyword Arguments (**kwargs):\n",
    "Similar to *args, you can use **kwargs to accept an arbitrary number of keyword arguments. These are stored as a dictionary."
   ]
  },
  {
   "cell_type": "code",
   "execution_count": 15,
   "id": "2c67a048-4737-4f0f-829e-49aedbe70b2e",
   "metadata": {},
   "outputs": [
    {
     "name": "stdout",
     "output_type": "stream",
     "text": [
      "name: Alice\n",
      "age: 25\n",
      "city: Paris\n"
     ]
    }
   ],
   "source": [
    "# arbitrary keyword arguement\n",
    "def print_info(**info):\n",
    "    for key, value in info.items():\n",
    "        print(f\"{key}: {value}\")\n",
    "\n",
    "print_info(name=\"Alice\", age=25, city=\"Paris\")"
   ]
  },
  {
   "cell_type": "markdown",
   "id": "d0c36b6f-89c6-4cdb-b372-e8479441766f",
   "metadata": {},
   "source": [
    "## Ques 3. What are the different ways to define and call a function in python?\n",
    "In Python, functions can be defined in various ways, depending on the use case. Here are different approaches to define and call a function:\n",
    "\n",
    "### 1. Standard Function Definition\n",
    "You define a function using the def keyword, followed by the function name and parentheses. You can also pass parameters into the function and return values."
   ]
  },
  {
   "cell_type": "code",
   "execution_count": 16,
   "id": "c9b605a6-2778-4a35-aa12-0b54de0257f2",
   "metadata": {},
   "outputs": [
    {
     "name": "stdout",
     "output_type": "stream",
     "text": [
      "Hello, Alice!\n"
     ]
    }
   ],
   "source": [
    "# Function definition\n",
    "def greet(name):\n",
    "    return f\"Hello, {name}!\"\n",
    "\n",
    "# Function call\n",
    "print(greet(\"Alice\"))"
   ]
  },
  {
   "cell_type": "markdown",
   "id": "41f9488b-d582-4064-81f3-b06d128b3617",
   "metadata": {},
   "source": [
    " ### 2. Default Argument Function\n",
    "You can specify default values for arguments. If no value is provided when calling the function, the default is used."
   ]
  },
  {
   "cell_type": "code",
   "execution_count": 17,
   "id": "43a9c008-fcc2-462c-b1b1-7af1341649fb",
   "metadata": {},
   "outputs": [
    {
     "name": "stdout",
     "output_type": "stream",
     "text": [
      "Hello, Guest!\n",
      "Hello, Alice!\n"
     ]
    }
   ],
   "source": [
    "def greet(name=\"Guest\"):\n",
    "    return f\"Hello, {name}!\"\n",
    "\n",
    "print(greet())        # No argument passed, uses default\n",
    "print(greet(\"Alice\")) # Argument passed"
   ]
  },
  {
   "cell_type": "markdown",
   "id": "aba9f438-b408-43ee-bab9-261d4940a21b",
   "metadata": {},
   "source": [
    "### 3. Keyword Arguments\n",
    "When calling a function, you can use keyword arguments to specify arguments by their parameter names."
   ]
  },
  {
   "cell_type": "code",
   "execution_count": 18,
   "id": "ac7854a3-db54-472d-aece-76f8c6c48e55",
   "metadata": {},
   "outputs": [
    {
     "name": "stdout",
     "output_type": "stream",
     "text": [
      "My name is Alice, and I am 30 years old.\n"
     ]
    }
   ],
   "source": [
    "def introduce(name, age):\n",
    "    return f\"My name is {name}, and I am {age} years old.\"\n",
    "\n",
    "# Calling the function with keyword arguments\n",
    "print(introduce(age=30, name=\"Alice\"))"
   ]
  },
  {
   "cell_type": "markdown",
   "id": "e2225599-7091-4516-a6d5-c22e274eef83",
   "metadata": {},
   "source": [
    "### 4. Variable-Length Arguments (*args)\n",
    "You can pass a variable number of arguments using *args. This allows the function to accept any number of positional arguments."
   ]
  },
  {
   "cell_type": "code",
   "execution_count": 19,
   "id": "f887742d-1969-4ce7-ac81-1735b2d4f7a2",
   "metadata": {},
   "outputs": [
    {
     "name": "stdout",
     "output_type": "stream",
     "text": [
      "6\n",
      "30\n"
     ]
    }
   ],
   "source": [
    "def sum_numbers(*args):\n",
    "    return sum(args)\n",
    "\n",
    "print(sum_numbers(1, 2, 3))\n",
    "print(sum_numbers(10, 20))"
   ]
  },
  {
   "cell_type": "markdown",
   "id": "de2581be-6777-4db4-b593-32194bc1a6d2",
   "metadata": {},
   "source": [
    "### 5. Variable-Length Keyword Arguments (**kwargs)\n",
    "You can pass a variable number of keyword arguments using **kwargs. This allows the function to accept a dictionary of keyword arguments."
   ]
  },
  {
   "cell_type": "code",
   "execution_count": 20,
   "id": "d8f8d399-2b75-4e1a-868e-1044a60e183d",
   "metadata": {},
   "outputs": [
    {
     "name": "stdout",
     "output_type": "stream",
     "text": [
      "name: Alice\n",
      "age: 30\n",
      "country: USA\n"
     ]
    }
   ],
   "source": [
    "def display_info(**kwargs):\n",
    "    for key, value in kwargs.items():\n",
    "        print(f\"{key}: {value}\")\n",
    "\n",
    "display_info(name=\"Alice\", age=30, country=\"USA\")"
   ]
  },
  {
   "cell_type": "markdown",
   "id": "8b73e35f-4ceb-445f-840e-4a885a24b710",
   "metadata": {},
   "source": [
    "### 6. Anonymous Functions (Lambda Functions)\n",
    "Lambda functions are small anonymous functions defined using the lambda keyword. They are typically used for simple, single-expression functions."
   ]
  },
  {
   "cell_type": "code",
   "execution_count": 21,
   "id": "4b10164c-2733-4579-a93a-94b8af75672d",
   "metadata": {},
   "outputs": [
    {
     "name": "stdout",
     "output_type": "stream",
     "text": [
      "25\n"
     ]
    }
   ],
   "source": [
    "# Lambda function to square a number\n",
    "square = lambda x: x ** 2\n",
    "\n",
    "print(square(5))"
   ]
  },
  {
   "cell_type": "markdown",
   "id": "6af950e2-0273-4a8a-b6fc-e1cbb964cc1c",
   "metadata": {},
   "source": [
    "### 7. Higher-Order Functions\n",
    "A function that takes another function as an argument or returns a function."
   ]
  },
  {
   "cell_type": "code",
   "execution_count": 22,
   "id": "6b5cd3ea-1122-49f0-98ce-c5ce59df1334",
   "metadata": {},
   "outputs": [
    {
     "name": "stdout",
     "output_type": "stream",
     "text": [
      "20\n"
     ]
    }
   ],
   "source": [
    "def apply_operation(x, func):\n",
    "    return func(x)\n",
    "\n",
    "# Passing a lambda function\n",
    "print(apply_operation(10, lambda x: x * 2))  # Doubles the input"
   ]
  },
  {
   "cell_type": "markdown",
   "id": "bf064e77-0753-482e-addf-58d7ba8a3a72",
   "metadata": {},
   "source": [
    "### 8. Recursive Function\n",
    "A function that calls itself."
   ]
  },
  {
   "cell_type": "code",
   "execution_count": 23,
   "id": "32800b0b-9607-4fb2-ab16-92353f2e37f6",
   "metadata": {},
   "outputs": [
    {
     "name": "stdout",
     "output_type": "stream",
     "text": [
      "120\n"
     ]
    }
   ],
   "source": [
    "def factorial(n):\n",
    "    if n == 0:\n",
    "        return 1\n",
    "    else:\n",
    "        return n * factorial(n - 1)\n",
    "\n",
    "print(factorial(5))"
   ]
  },
  {
   "cell_type": "markdown",
   "id": "3364e227-e822-4c78-befb-52e58883a3a7",
   "metadata": {},
   "source": [
    "## Ques 4. What is the purpose of the 'return' statement in python function\n",
    "In Python, the return statement is used in a function to exit the function and pass a value back to the caller. The value returned can be any Python object: a number, a string, a list, a tuple, etc. If no return statement is included, or return is called without any value, the function will return None by default.\n",
    "\n",
    "### Purpose of the return statement:\n",
    "* Return a result: It allows a function to produce an output, which can be used elsewhere in the program.\n",
    "* Exit the function: Once a return statement is encountered, the function terminates its execution immediately."
   ]
  },
  {
   "cell_type": "code",
   "execution_count": 24,
   "id": "aee244e0-28d6-4eea-8105-f0b51fc31353",
   "metadata": {},
   "outputs": [
    {
     "name": "stdout",
     "output_type": "stream",
     "text": [
      "8\n"
     ]
    }
   ],
   "source": [
    "# Define a function that adds two numbers and returns the result\n",
    "def add_numbers(a, b):\n",
    "    return a + b  # The sum of a and b is returned\n",
    "\n",
    "# Call the function and store the result in a variable\n",
    "result = add_numbers(5, 3)\n",
    "\n",
    "# Output the result\n",
    "print(result)  # Output: 8"
   ]
  },
  {
   "cell_type": "markdown",
   "id": "f641e976-4cf5-4030-b4ac-14d76b9a9f83",
   "metadata": {},
   "source": [
    "### Explanation:\n",
    "* The function add_numbers takes two arguments (a and b), adds them, and then returns their sum.\n",
    "* When add_numbers(5, 3) is called, the return value (8) is assigned to the variable result.\n",
    "* print(result) will display the value 8.\n",
    "\n",
    "Without the return statement, the function would not produce a usable result. Instead, it would return None:"
   ]
  },
  {
   "cell_type": "code",
   "execution_count": 25,
   "id": "eade2a0a-36a2-49c4-8625-3af6030d5072",
   "metadata": {},
   "outputs": [
    {
     "name": "stdout",
     "output_type": "stream",
     "text": [
      "None\n"
     ]
    }
   ],
   "source": [
    "def add_numbers(a, b):\n",
    "    a + b  # No return statement\n",
    "\n",
    "result = add_numbers(5, 3)\n",
    "print(result)  # Output: None"
   ]
  },
  {
   "cell_type": "markdown",
   "id": "1bc248f9-2cd5-4852-81cf-c33f4c8439b3",
   "metadata": {},
   "source": [
    "## Ques 5. What are the iterators in python and how do they differ from iterables?\n",
    "In Python, iterators and iterables are key concepts used in loops and for processing sequences. They are closely related but serve different roles.\n",
    "\n",
    "### 1. Iterable:\n",
    "An iterable is any Python object that can return an iterator, meaning it can be used in a loop. Examples include sequences like lists, tuples, dictionaries, sets, and even strings. An object is considered iterable if it implements the __iter__() method or the __getitem__() method.\n",
    "\n",
    "Examples of iterables:\n",
    "\n",
    "* Lists\n",
    "* Tuples\n",
    "* Strings\n",
    "* Dictionaries\n",
    "* Sets\n",
    "\n",
    "### 2. Iterator:\n",
    "An iterator is an object that represents a stream of data; it returns one element at a time from the iterable when you call the next() function on it. An iterator object implements two special methods:\n",
    "\n",
    "* __iter__(): Returns the iterator object itself.\n",
    "* __next__(): Returns the next value from the stream. When there are no more values, it raises the StopIteration exception.\n",
    "### Key Differences:\n",
    "#### Iterable: \n",
    "Any object that can be looped over (an object that can return an iterator).\n",
    "#### Iterator: \n",
    "The object that actually performs the iteration, producing one item at a time.\n",
    "\n",
    "All iterators are iterable, but not all iterables are iterators. For example, lists are iterable but not iterators because they don't implement the __next__() method."
   ]
  },
  {
   "cell_type": "code",
   "execution_count": 26,
   "id": "19c0fd7b-3a01-438e-985c-16bfc3dd87ca",
   "metadata": {},
   "outputs": [
    {
     "name": "stdout",
     "output_type": "stream",
     "text": [
      "1\n",
      "2\n",
      "3\n",
      "1\n",
      "2\n",
      "3\n"
     ]
    }
   ],
   "source": [
    "# Example of an iterable (a list)\n",
    "my_list = [1, 2, 3]\n",
    "\n",
    "# You can loop over the list because it's iterable\n",
    "for item in my_list:\n",
    "    print(item)\n",
    "\n",
    "# To create an iterator from the iterable\n",
    "my_iterator = iter(my_list)\n",
    "\n",
    "# You can use the `next()` function to manually get the next item\n",
    "print(next(my_iterator))  # Output: 1\n",
    "print(next(my_iterator))  # Output: 2\n",
    "print(next(my_iterator))  # Output: 3\n",
    "\n",
    "# If you call `next()` again, it will raise StopIteration\n",
    "# print(next(my_iterator))  # This will raise StopIteration"
   ]
  },
  {
   "cell_type": "markdown",
   "id": "2a61f024-bdee-4c04-89c4-2094a73b9758",
   "metadata": {},
   "source": [
    "### Creating a Custom Iterator:\n",
    "You can create a custom iterator by defining a class that implements both the __iter__() and __next__() methods."
   ]
  },
  {
   "cell_type": "code",
   "execution_count": 27,
   "id": "4bf3c19c-2673-49ec-8c6d-30cca565ac00",
   "metadata": {},
   "outputs": [
    {
     "name": "stdout",
     "output_type": "stream",
     "text": [
      "1\n",
      "2\n",
      "3\n"
     ]
    }
   ],
   "source": [
    "# A custom iterator that returns numbers from 1 to n\n",
    "class MyIterator:\n",
    "    def __init__(self, n):\n",
    "        self.n = n\n",
    "        self.current = 1\n",
    "    \n",
    "    def __iter__(self):\n",
    "        return self\n",
    "    \n",
    "    def __next__(self):\n",
    "        if self.current <= self.n:\n",
    "            result = self.current\n",
    "            self.current += 1\n",
    "            return result\n",
    "        else:\n",
    "            raise StopIteration\n",
    "\n",
    "# Create an instance of the iterator\n",
    "my_iter = MyIterator(3)\n",
    "\n",
    "# Iterate over it using a for loop or manually with `next()`\n",
    "for item in my_iter:\n",
    "    print(item)\n",
    "\n",
    "# Output: 1, 2, 3"
   ]
  },
  {
   "cell_type": "markdown",
   "id": "fbd325bd-c57e-4b18-8db2-a7b96485aa8e",
   "metadata": {},
   "source": [
    "# Ques 6. Explain the concept of generators in Python and how they are defined\n",
    "In Python, generators are a special type of iterable, like lists or tuples, but they generate values on the fly and don’t store them in memory. This allows them to be very memory-efficient, especially for large datasets. They are used to generate a sequence of values over time, instead of holding all the values in memory at once.\n",
    "\n",
    "### Key Features of Generators:\n",
    "1. Lazy Evaluation: They generate values one at a time and only when needed, saving memory.\n",
    "2. State Retention: They maintain their state in between iterations, which allows them to resume where they left off.\n",
    "3. StopIteration: Once a generator has no more values to yield, it automatically raises a StopIteration exception, signaling the end of the iteration.\n",
    "\n",
    "### Defining Generators\n",
    "Generators are defined using functions and the yield keyword instead of return. While a normal function returns a single value and exits, a generator function yields a value and pauses its execution, resuming where it left off the next time it is called."
   ]
  },
  {
   "cell_type": "code",
   "execution_count": 1,
   "id": "3bf579b4-cf8c-4842-bbaa-9fbbdf89957c",
   "metadata": {},
   "outputs": [],
   "source": [
    "# syntax\n",
    "def my_generator():\n",
    "    yield value1\n",
    "    yield value2\n",
    "    ..."
   ]
  },
  {
   "cell_type": "code",
   "execution_count": 3,
   "id": "3517ce7f-8e17-4212-9107-700752c3d114",
   "metadata": {},
   "outputs": [
    {
     "name": "stdout",
     "output_type": "stream",
     "text": [
      "1\n",
      "2\n",
      "3\n",
      "4\n",
      "5\n"
     ]
    }
   ],
   "source": [
    "# Example of basic generators\n",
    "def count_up_to_five():\n",
    "    for i in range(1, 6):\n",
    "        yield i\n",
    "\n",
    "# Create the generator\n",
    "gen = count_up_to_five()\n",
    "\n",
    "# Iterating through the generator\n",
    "for value in gen:\n",
    "    print(value)"
   ]
  },
  {
   "cell_type": "code",
   "execution_count": 4,
   "id": "89c70153-5ae4-4914-b351-1901328565c7",
   "metadata": {},
   "outputs": [
    {
     "name": "stdout",
     "output_type": "stream",
     "text": [
      "1\n",
      "2\n",
      "3\n",
      "4\n",
      "5\n"
     ]
    }
   ],
   "source": [
    "# Example of infinite generator\n",
    "def infinite_numbers():\n",
    "    i = 1\n",
    "    while True:\n",
    "        yield i\n",
    "        i += 1\n",
    "\n",
    "# Creating the generator\n",
    "gen = infinite_numbers()\n",
    "\n",
    "# Fetching the first 5 values\n",
    "for _ in range(5):\n",
    "    print(next(gen))"
   ]
  },
  {
   "cell_type": "markdown",
   "id": "ad3a7b70-8558-4b21-a5ab-756f65d7b3d8",
   "metadata": {},
   "source": [
    "### Advantages of Generators:\n",
    "1. Memory Efficient: Since they generate values on demand, generators are great for handling large datasets or streams of data.\n",
    "2. Represent Infinite Sequences: Generators can represent sequences that don't have a predefined end (like the example above).\n",
    "3. Stateful Iteration: They retain their state across executions, which makes them useful for certain types of iterative algorithms."
   ]
  },
  {
   "cell_type": "code",
   "execution_count": 5,
   "id": "6bbf3584-7d02-4ab7-b394-f9ba1fdafb86",
   "metadata": {},
   "outputs": [
    {
     "name": "stdout",
     "output_type": "stream",
     "text": [
      "0\n",
      "1\n",
      "4\n",
      "9\n",
      "16\n",
      "25\n"
     ]
    }
   ],
   "source": [
    "# Example of Generator Expression\n",
    "gen_exp = (x * x for x in range(6))\n",
    "for value in gen_exp:\n",
    "    print(value)"
   ]
  },
  {
   "cell_type": "markdown",
   "id": "a49823ae-f9a5-44c8-a748-2ae2fb767e37",
   "metadata": {},
   "source": [
    "## Ques 7. What are the advantages of using generators over regular functions?\n",
    "Generators are a special type of function in Python that allow you to iterate over data lazily, yielding items one at a time, which provides several advantages over regular functions:\n",
    "\n",
    "### 1. Memory Efficiency\n",
    "Generators do not store the entire sequence of values in memory; they generate values on the fly, which makes them more memory-efficient, especially when dealing with large datasets."
   ]
  },
  {
   "cell_type": "code",
   "execution_count": 6,
   "id": "7a1c4dbd-f02c-4069-8b79-b8e08121b9b9",
   "metadata": {},
   "outputs": [
    {
     "name": "stdout",
     "output_type": "stream",
     "text": [
      "0\n"
     ]
    }
   ],
   "source": [
    "# using a regular function\n",
    "def generate_numbers(n):\n",
    "    return [i for i in range(n)]\n",
    "\n",
    "numbers = generate_numbers(1000000)\n",
    "print(numbers[0])  # This stores all 1 million numbers in memory"
   ]
  },
  {
   "cell_type": "code",
   "execution_count": 7,
   "id": "96c1ab4e-41b5-4a35-9a80-1776635c98c3",
   "metadata": {},
   "outputs": [
    {
     "name": "stdout",
     "output_type": "stream",
     "text": [
      "0\n"
     ]
    }
   ],
   "source": [
    "# using generator\n",
    "def generate_numbers(n):\n",
    "    for i in range(n):\n",
    "        yield i\n",
    "\n",
    "numbers = generate_numbers(1000000)\n",
    "print(next(numbers))  # This yields one number at a time"
   ]
  },
  {
   "cell_type": "markdown",
   "id": "a41aff01-6d87-4b26-aa62-6575102bad53",
   "metadata": {},
   "source": [
    "In the generator version, numbers are not stored in memory; instead, they are generated one at a time as needed.\n",
    "\n",
    "### 2. Lazy Evaluation\n",
    "Generators compute values lazily. This means they only generate the next value when it is requested. This reduces overhead and can be more efficient when working with infinite sequences or large datasets."
   ]
  },
  {
   "cell_type": "code",
   "execution_count": 9,
   "id": "7cd29f6c-11ba-46ea-89b5-20b03e6ced22",
   "metadata": {},
   "outputs": [],
   "source": [
    "# using regular function (cannot handle infiniite series)\n",
    "def fibonacci(n):\n",
    "    fib_sequence = []\n",
    "    a, b = 0, 1\n",
    "    for _ in range(n):\n",
    "        fib_sequence.append(a)\n",
    "        a, b = b, a + b\n",
    "    return fib_sequence"
   ]
  },
  {
   "cell_type": "code",
   "execution_count": 10,
   "id": "8e277a98-6702-47d1-9224-8c24daa04c6d",
   "metadata": {},
   "outputs": [
    {
     "name": "stdout",
     "output_type": "stream",
     "text": [
      "0\n",
      "1\n",
      "1\n",
      "2\n",
      "3\n",
      "5\n",
      "8\n",
      "13\n",
      "21\n",
      "34\n"
     ]
    }
   ],
   "source": [
    "# using generator function (handles iinfinite serie)\n",
    "def fibonacci():\n",
    "    a, b = 0, 1\n",
    "    while True:\n",
    "        yield a\n",
    "        a, b = b, a + b\n",
    "\n",
    "fib_gen = fibonacci()\n",
    "for _ in range(10):\n",
    "    print(next(fib_gen))  # Will keep generating Fibonacci numbers forever"
   ]
  },
  {
   "cell_type": "markdown",
   "id": "6ba9b016-2a61-44b9-8ef0-2a7dd37c565b",
   "metadata": {},
   "source": [
    "### 3. Performance Benefits\n",
    "Generators often provide performance benefits since they avoid creating an entire list in memory upfront. This can speed up programs, especially when the entire result set is not required at once.\n",
    "Example: Processing large log files."
   ]
  },
  {
   "cell_type": "code",
   "execution_count": 12,
   "id": "eb0fc5d0-b614-4874-ac91-b68031b34a30",
   "metadata": {},
   "outputs": [],
   "source": [
    "# using regular function\n",
    "def read_large_file(filepath):\n",
    "    with open(filepath) as file:\n",
    "        lines = file.readlines()  # Reads the whole file into memory\n",
    "    return lines"
   ]
  },
  {
   "cell_type": "code",
   "execution_count": 13,
   "id": "bbee845f-4cb6-4107-8c34-e0649c66bd37",
   "metadata": {},
   "outputs": [
    {
     "ename": "FileNotFoundError",
     "evalue": "[Errno 2] No such file or directory: 'large_log.txt'",
     "output_type": "error",
     "traceback": [
      "\u001b[1;31m---------------------------------------------------------------------------\u001b[0m",
      "\u001b[1;31mFileNotFoundError\u001b[0m                         Traceback (most recent call last)",
      "Cell \u001b[1;32mIn[13], line 7\u001b[0m\n\u001b[0;32m      4\u001b[0m         \u001b[38;5;28;01mfor\u001b[39;00m line \u001b[38;5;129;01min\u001b[39;00m file:\n\u001b[0;32m      5\u001b[0m             \u001b[38;5;28;01myield\u001b[39;00m line  \u001b[38;5;66;03m# Yields one line at a time\u001b[39;00m\n\u001b[1;32m----> 7\u001b[0m \u001b[38;5;28;43;01mfor\u001b[39;49;00m\u001b[43m \u001b[49m\u001b[43mline\u001b[49m\u001b[43m \u001b[49m\u001b[38;5;129;43;01min\u001b[39;49;00m\u001b[43m \u001b[49m\u001b[43mread_large_file\u001b[49m\u001b[43m(\u001b[49m\u001b[38;5;124;43m\"\u001b[39;49m\u001b[38;5;124;43mlarge_log.txt\u001b[39;49m\u001b[38;5;124;43m\"\u001b[39;49m\u001b[43m)\u001b[49m\u001b[43m:\u001b[49m\n\u001b[0;32m      8\u001b[0m \u001b[43m    \u001b[49m\u001b[38;5;28;43mprint\u001b[39;49m\u001b[43m(\u001b[49m\u001b[43mline\u001b[49m\u001b[43m)\u001b[49m\n",
      "Cell \u001b[1;32mIn[13], line 3\u001b[0m, in \u001b[0;36mread_large_file\u001b[1;34m(filepath)\u001b[0m\n\u001b[0;32m      2\u001b[0m \u001b[38;5;28;01mdef\u001b[39;00m \u001b[38;5;21mread_large_file\u001b[39m(filepath):\n\u001b[1;32m----> 3\u001b[0m     \u001b[38;5;28;01mwith\u001b[39;00m \u001b[38;5;28;43mopen\u001b[39;49m\u001b[43m(\u001b[49m\u001b[43mfilepath\u001b[49m\u001b[43m)\u001b[49m \u001b[38;5;28;01mas\u001b[39;00m file:\n\u001b[0;32m      4\u001b[0m         \u001b[38;5;28;01mfor\u001b[39;00m line \u001b[38;5;129;01min\u001b[39;00m file:\n\u001b[0;32m      5\u001b[0m             \u001b[38;5;28;01myield\u001b[39;00m line\n",
      "File \u001b[1;32m~\\AppData\\Roaming\\Python\\Python312\\site-packages\\IPython\\core\\interactiveshell.py:324\u001b[0m, in \u001b[0;36m_modified_open\u001b[1;34m(file, *args, **kwargs)\u001b[0m\n\u001b[0;32m    317\u001b[0m \u001b[38;5;28;01mif\u001b[39;00m file \u001b[38;5;129;01min\u001b[39;00m {\u001b[38;5;241m0\u001b[39m, \u001b[38;5;241m1\u001b[39m, \u001b[38;5;241m2\u001b[39m}:\n\u001b[0;32m    318\u001b[0m     \u001b[38;5;28;01mraise\u001b[39;00m \u001b[38;5;167;01mValueError\u001b[39;00m(\n\u001b[0;32m    319\u001b[0m         \u001b[38;5;124mf\u001b[39m\u001b[38;5;124m\"\u001b[39m\u001b[38;5;124mIPython won\u001b[39m\u001b[38;5;124m'\u001b[39m\u001b[38;5;124mt let you open fd=\u001b[39m\u001b[38;5;132;01m{\u001b[39;00mfile\u001b[38;5;132;01m}\u001b[39;00m\u001b[38;5;124m by default \u001b[39m\u001b[38;5;124m\"\u001b[39m\n\u001b[0;32m    320\u001b[0m         \u001b[38;5;124m\"\u001b[39m\u001b[38;5;124mas it is likely to crash IPython. If you know what you are doing, \u001b[39m\u001b[38;5;124m\"\u001b[39m\n\u001b[0;32m    321\u001b[0m         \u001b[38;5;124m\"\u001b[39m\u001b[38;5;124myou can use builtins\u001b[39m\u001b[38;5;124m'\u001b[39m\u001b[38;5;124m open.\u001b[39m\u001b[38;5;124m\"\u001b[39m\n\u001b[0;32m    322\u001b[0m     )\n\u001b[1;32m--> 324\u001b[0m \u001b[38;5;28;01mreturn\u001b[39;00m \u001b[43mio_open\u001b[49m\u001b[43m(\u001b[49m\u001b[43mfile\u001b[49m\u001b[43m,\u001b[49m\u001b[43m \u001b[49m\u001b[38;5;241;43m*\u001b[39;49m\u001b[43margs\u001b[49m\u001b[43m,\u001b[49m\u001b[43m \u001b[49m\u001b[38;5;241;43m*\u001b[39;49m\u001b[38;5;241;43m*\u001b[39;49m\u001b[43mkwargs\u001b[49m\u001b[43m)\u001b[49m\n",
      "\u001b[1;31mFileNotFoundError\u001b[0m: [Errno 2] No such file or directory: 'large_log.txt'"
     ]
    }
   ],
   "source": [
    "# using generator function\n",
    "def read_large_file(filepath):\n",
    "    with open(filepath) as file:\n",
    "        for line in file:\n",
    "            yield line  # Yields one line at a time\n",
    "\n",
    "for line in read_large_file(\"large_log.txt\"):\n",
    "    print(line)"
   ]
  },
  {
   "cell_type": "markdown",
   "id": "68e7840c-1bf9-4952-bb6b-04273f7b1bd9",
   "metadata": {},
   "source": [
    "### 4. Improved Composability\n",
    "Generators are composable and can be used to build pipelines of data processing where each stage lazily feeds data into the next."
   ]
  },
  {
   "cell_type": "code",
   "execution_count": 14,
   "id": "1035ca3e-179a-43bb-961c-c32dd3cc73f3",
   "metadata": {},
   "outputs": [
    {
     "name": "stdout",
     "output_type": "stream",
     "text": [
      "0\n",
      "4\n",
      "16\n",
      "36\n",
      "64\n"
     ]
    }
   ],
   "source": [
    "def read_numbers(n):\n",
    "    for i in range(n):\n",
    "        yield i\n",
    "\n",
    "def filter_even(numbers):\n",
    "    for number in numbers:\n",
    "        if number % 2 == 0:\n",
    "            yield number\n",
    "\n",
    "def square(numbers):\n",
    "    for number in numbers:\n",
    "        yield number ** 2\n",
    "\n",
    "numbers = read_numbers(10)\n",
    "even_numbers = filter_even(numbers)\n",
    "squared_numbers = square(even_numbers)\n",
    "\n",
    "for number in squared_numbers:\n",
    "    print(number)"
   ]
  },
  {
   "cell_type": "markdown",
   "id": "fa66a8ea-1b56-4780-9d74-cbc864b92d83",
   "metadata": {},
   "source": [
    "### 5. State Retention\n",
    "Generators maintain state between successive calls, which makes them useful for iterating over sequences while retaining context across iterations."
   ]
  },
  {
   "cell_type": "code",
   "execution_count": 15,
   "id": "d59e4f0e-1a22-42ef-a402-7b6446661273",
   "metadata": {},
   "outputs": [
    {
     "name": "stdout",
     "output_type": "stream",
     "text": [
      "0\n",
      "1\n",
      "2\n"
     ]
    }
   ],
   "source": [
    "def counter():\n",
    "    count = 0\n",
    "    while True:\n",
    "        yield count\n",
    "        count += 1\n",
    "\n",
    "c = counter()\n",
    "print(next(c))  # 0\n",
    "print(next(c))  # 1\n",
    "print(next(c))  # 2"
   ]
  },
  {
   "cell_type": "markdown",
   "id": "774264ff-e36f-46c9-8bee-f71fa9d70c5f",
   "metadata": {},
   "source": [
    "## Ques 8. what is lambda function in python and when is ti typically used?\n",
    "In Python, a lambda function is a small, anonymous function defined with the lambda keyword. It is typically used when you need a simple function for a short period of time, without having to formally define it using the def keyword."
   ]
  },
  {
   "cell_type": "code",
   "execution_count": 16,
   "id": "5212e2b2-0c7f-4756-a843-76d42b6b3d25",
   "metadata": {},
   "outputs": [
    {
     "data": {
      "text/plain": [
       "<function __main__.<lambda>(arguments)>"
      ]
     },
     "execution_count": 16,
     "metadata": {},
     "output_type": "execute_result"
    }
   ],
   "source": [
    "#syntanx of a lambda function\n",
    "lambda arguments: expression\n"
   ]
  },
  {
   "cell_type": "markdown",
   "id": "db85d365-5e23-405d-b56c-ea6e8f541526",
   "metadata": {},
   "source": [
    "* Arguments: A lambda function can have any number of arguments.\n",
    "* Expression: It contains a single expression and returns the result of that expression."
   ]
  },
  {
   "cell_type": "code",
   "execution_count": 17,
   "id": "43c264f8-efd2-4057-bb6d-f09a107ba402",
   "metadata": {},
   "outputs": [
    {
     "name": "stdout",
     "output_type": "stream",
     "text": [
      "15\n"
     ]
    }
   ],
   "source": [
    "# example of a lambda funtion\n",
    "# Lambda function that adds 10 to a given number\n",
    "add_10 = lambda x: x + 10\n",
    "print(add_10(5))  # Output: 15"
   ]
  },
  {
   "cell_type": "markdown",
   "id": "9c624341-61b8-4272-b4e1-df80c974927b",
   "metadata": {},
   "source": [
    "### Key Characteristics:\n",
    "* Anonymous: Lambda functions are not bound to a name like regular functions.\n",
    "* Single Expression: They are limited to a single expression, though the expression can be complex.\n",
    "* Compact: They allow you to create simple functions in a single line of code.\n",
    "### Typical Use Cases for Lambda Functions:\n",
    "1. Sorting and Filtering: Often used with functions like sorted(), filter(), or map().\n",
    "\n"
   ]
  },
  {
   "cell_type": "code",
   "execution_count": 18,
   "id": "d406220f-d964-4d3e-a1e1-1ce79a0844b7",
   "metadata": {},
   "outputs": [
    {
     "name": "stdout",
     "output_type": "stream",
     "text": [
      "[(5, -1), (3, 1), (1, 2)]\n"
     ]
    }
   ],
   "source": [
    "# Sort a list of tuples based on the second element\n",
    "points = [(1, 2), (3, 1), (5, -1)]\n",
    "sorted_points = sorted(points, key=lambda x: x[1])\n",
    "print(sorted_points)  # Output: [(5, -1), (3, 1), (1, 2)]"
   ]
  },
  {
   "cell_type": "markdown",
   "id": "68a2c758-cad8-47b4-963a-84de648453cf",
   "metadata": {},
   "source": [
    "2. Higher-Order Functions: Functions that take other functions as arguments often use lambda functions for convenience.\n",
    "\n",
    "Example with map()"
   ]
  },
  {
   "cell_type": "code",
   "execution_count": 19,
   "id": "e47ac0a7-75e3-47f6-810a-de1533d52f89",
   "metadata": {},
   "outputs": [
    {
     "name": "stdout",
     "output_type": "stream",
     "text": [
      "[2, 4, 6, 8]\n"
     ]
    }
   ],
   "source": [
    "# Double each number in a list\n",
    "numbers = [1, 2, 3, 4]\n",
    "doubled = map(lambda x: x * 2, numbers)\n",
    "print(list(doubled))  # Output: [2, 4, 6, 8]"
   ]
  },
  {
   "cell_type": "markdown",
   "id": "8a1e75d6-15b3-4c01-9135-e866e51288cf",
   "metadata": {},
   "source": [
    "3. Inline Functions: When you need to pass a simple function as an argument to another function and don’t want to define a separate function.\n",
    "\n",
    "Example with filter():"
   ]
  },
  {
   "cell_type": "code",
   "execution_count": 20,
   "id": "5b449519-2dd1-48a5-a1ad-74bfb20f6c3b",
   "metadata": {},
   "outputs": [
    {
     "name": "stdout",
     "output_type": "stream",
     "text": [
      "[2, 4, 6]\n"
     ]
    }
   ],
   "source": [
    "# Filter even numbers from a list\n",
    "numbers = [1, 2, 3, 4, 5, 6]\n",
    "even_numbers = filter(lambda x: x % 2 == 0, numbers)\n",
    "print(list(even_numbers))  # Output: [2, 4, 6]"
   ]
  },
  {
   "cell_type": "markdown",
   "id": "778bd151-139e-4f48-9e99-56f2b6871e74",
   "metadata": {},
   "source": [
    "## Ques 9. Explain the purpose and usage of the `map()` function in Python.\n",
    "The map() function in Python is used to apply a given function to all the items in an iterable (such as a list, tuple, etc.) and return a map object (which is an iterator). It is typically used when you want to perform some operation on each element of a collection without using an explicit loop.\n",
    "* function: A function that defines what to do with each element.\n",
    "* iterable: One or more iterable sequences (e.g., lists, tuples, etc.) to apply the function on.\n",
    "### Purpose:\n",
    "The primary purpose of map() is to allow for a cleaner, more readable application of functions to elements of a collection, avoiding the need to write loops. It's particularly useful when combined with built-in or lambda functions for concise transformation of data."
   ]
  },
  {
   "cell_type": "code",
   "execution_count": 1,
   "id": "e198d1af-08cd-4cb9-b294-3238a415b5af",
   "metadata": {},
   "outputs": [
    {
     "name": "stdout",
     "output_type": "stream",
     "text": [
      "[1, 4, 9, 16, 25]\n"
     ]
    }
   ],
   "source": [
    "# \n",
    "numbers = [1, 2, 3, 4, 5]\n",
    "result = map(lambda x: x**2, numbers)\n",
    "print(list(result))  # Output: [1, 4, 9, 16, 25]\n"
   ]
  },
  {
   "cell_type": "markdown",
   "id": "db71903b-3413-4450-b2c1-bb1a39bcb640",
   "metadata": {},
   "source": [
    "In this example:\n",
    "\n",
    "* lambda x: x**2 is a function that squares each element.\n",
    "* map() applies this function to each item in the numbers list.\n",
    "* The result is a map object, which is converted to a list to display the output.\n",
    "### Multiple Iterables:\n",
    "map() can also accept multiple iterables. In that case, the function must take the same number of arguments as there are iterables.\n",
    "\n",
    "Example:"
   ]
  },
  {
   "cell_type": "code",
   "execution_count": 2,
   "id": "5f41ed12-0752-4775-9c9e-400e4b12651b",
   "metadata": {},
   "outputs": [
    {
     "name": "stdout",
     "output_type": "stream",
     "text": [
      "[5, 7, 9]\n"
     ]
    }
   ],
   "source": [
    "a = [1, 2, 3]\n",
    "b = [4, 5, 6]\n",
    "result = map(lambda x, y: x + y, a, b)\n",
    "print(list(result))  # Output: [5, 7, 9]\n"
   ]
  },
  {
   "cell_type": "markdown",
   "id": "4724c8bc-1001-4d03-ac3c-88368f567c25",
   "metadata": {},
   "source": [
    "### Key Points:\n",
    "* map() does not return a list but a map object, which is an iterator. To view the result, you need to explicitly convert it to a list or another iterable like a tuple.\n",
    "* It's often used in combination with lambda for simple, one-time functions.\n",
    "* For more complex operations, a defined function can be passed.\n",
    "### When to Use:\n",
    "* When you want to apply a transformation or function to every element of an iterable in a concise way.\n",
    "* When you need to process multiple iterables in parallel.\n",
    "### Advantages:\n",
    "* Simplifies code by eliminating the need for explicit loops.\n",
    "* Offers performance benefits since it applies the function lazily, meaning the result is computed as needed (especially useful for large datasets)."
   ]
  },
  {
   "cell_type": "markdown",
   "id": "bc49b2ca-8c97-4c8d-8ee9-9ffa10bf3f5c",
   "metadata": {},
   "source": [
    "## Ques 10. What is the difference between map(), reduce(), and filter() functions in Python?\n",
    "In Python, map(), reduce(), and filter() are functional programming tools that allow you to work with collections (e.g., lists, tuples, etc.) in a concise and expressive manner. Here's the key difference between them:\n",
    "\n",
    "### 1. map() Function\n",
    "* Purpose: Applies a function to every item in an iterable (like a list or tuple) and returns a new iterable (typically a map object, which can be converted to a list or other collection).\n",
    "* Syntax: map(function, iterable)\n",
    "* Use Case: Use map() when you want to transform each element of an iterable."
   ]
  },
  {
   "cell_type": "code",
   "execution_count": 3,
   "id": "c4976227-b932-4cc0-bf85-0203f29657a1",
   "metadata": {},
   "outputs": [
    {
     "name": "stdout",
     "output_type": "stream",
     "text": [
      "[1, 4, 9, 16]\n"
     ]
    }
   ],
   "source": [
    "numbers = [1, 2, 3, 4]\n",
    "squared = map(lambda x: x ** 2, numbers)\n",
    "print(list(squared))  # Output: [1, 4, 9, 16]"
   ]
  },
  {
   "cell_type": "markdown",
   "id": "62da3cb4-8eef-4a9d-a778-dd00f323fdc7",
   "metadata": {},
   "source": [
    "## 2. reduce() Function\n",
    "* Purpose: Applies a function cumulatively to the items of an iterable, reducing the iterable to a single value. This function is in the functools module.\n",
    "* Syntax: reduce(function, iterable)\n",
    "* Use Case: Use reduce() when you want to perform some aggregation or combination of values (e.g., summing or multiplying elements)."
   ]
  },
  {
   "cell_type": "code",
   "execution_count": 4,
   "id": "7a405381-07d8-496d-a9d6-b685b13dff4e",
   "metadata": {},
   "outputs": [
    {
     "name": "stdout",
     "output_type": "stream",
     "text": [
      "10\n"
     ]
    }
   ],
   "source": [
    "from functools import reduce\n",
    "\n",
    "numbers = [1, 2, 3, 4]\n",
    "total = reduce(lambda x, y: x + y, numbers)\n",
    "print(total)  # Output: 10"
   ]
  },
  {
   "cell_type": "markdown",
   "id": "87c3d50c-3da5-4626-9264-f24c18c823c1",
   "metadata": {},
   "source": [
    "### 3. filter() Function\n",
    "* Purpose: Filters elements of an iterable using a function that returns True or False, returning only elements for which the function returns True.*\n",
    "* Syntax: filter(function, iterable)\n",
    "* Use Case: Use filter() when you want to extract a subset of elements from an iterable based on a condition."
   ]
  },
  {
   "cell_type": "code",
   "execution_count": 5,
   "id": "3214e65f-28ae-4794-8268-3a3a44d4afe1",
   "metadata": {},
   "outputs": [
    {
     "name": "stdout",
     "output_type": "stream",
     "text": [
      "[2, 4]\n"
     ]
    }
   ],
   "source": [
    "numbers = [1, 2, 3, 4]\n",
    "evens = filter(lambda x: x % 2 == 0, numbers)\n",
    "print(list(evens))  # Output: [2, 4]"
   ]
  }
 ],
 "metadata": {
  "kernelspec": {
   "display_name": "Python 3 (ipykernel)",
   "language": "python",
   "name": "python3"
  },
  "language_info": {
   "codemirror_mode": {
    "name": "ipython",
    "version": 3
   },
   "file_extension": ".py",
   "mimetype": "text/x-python",
   "name": "python",
   "nbconvert_exporter": "python",
   "pygments_lexer": "ipython3",
   "version": "3.12.5"
  }
 },
 "nbformat": 4,
 "nbformat_minor": 5
}
